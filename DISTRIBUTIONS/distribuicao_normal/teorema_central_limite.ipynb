{
 "cells": [
  {
   "cell_type": "code",
   "execution_count": null,
   "metadata": {},
   "outputs": [],
   "source": [
    "#TODO: Implementar posteriormente, por enquanto não é necessário"
   ]
  }
 ],
 "metadata": {
  "kernelspec": {
   "display_name": "Python 3.8.10 ('venv': venv)",
   "language": "python",
   "name": "python3"
  },
  "language_info": {
   "name": "python",
   "version": "3.8.10"
  },
  "orig_nbformat": 4,
  "vscode": {
   "interpreter": {
    "hash": "4ed5cae73579bccf33b3f21a796db87ee35cb26effba6122bfc344aff6e50e97"
   }
  }
 },
 "nbformat": 4,
 "nbformat_minor": 2
}
