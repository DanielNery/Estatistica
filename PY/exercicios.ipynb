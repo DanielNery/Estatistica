{
 "cells": [
  {
   "cell_type": "markdown",
   "metadata": {},
   "source": [
    "** Quanto é 7 elevado na potência 4?**"
   ]
  },
  {
   "cell_type": "code",
   "execution_count": 1,
   "metadata": {},
   "outputs": [
    {
     "data": {
      "text/plain": [
       "2401"
      ]
     },
     "execution_count": 1,
     "metadata": {},
     "output_type": "execute_result"
    }
   ],
   "source": [
    "7**4"
   ]
  },
  {
   "cell_type": "markdown",
   "metadata": {},
   "source": [
    "** Quebre a seguinte string em uma lista:**\n",
    "s = \"Olá, Pai!\""
   ]
  },
  {
   "cell_type": "code",
   "execution_count": 2,
   "metadata": {},
   "outputs": [
    {
     "data": {
      "text/plain": [
       "['Olá,', 'Pai!']"
      ]
     },
     "execution_count": 2,
     "metadata": {},
     "output_type": "execute_result"
    }
   ],
   "source": [
    "s = \"Olá, Pai!\"\n",
    "s.split()"
   ]
  },
  {
   "cell_type": "markdown",
   "metadata": {},
   "source": [
    "** Dada as variáveis:**\n",
    "Planeta = \"Terra\"\n",
    "Diametro = 12742\n",
    "** Use .format() para printar a seguinte frase: **\n",
    "O diâmetro da terra é de 12742 kilômetros."
   ]
  },
  {
   "cell_type": "code",
   "execution_count": 4,
   "metadata": {},
   "outputs": [
    {
     "data": {
      "text/plain": [
       "'O diâmetro da Terra é de 12742 quilometros'"
      ]
     },
     "execution_count": 4,
     "metadata": {},
     "output_type": "execute_result"
    }
   ],
   "source": [
    "Planeta = \"Terra\"\n",
    "Diametro = 12742\n",
    "\n",
    "\"O diâmetro da {Planeta} é de {Diametro} quilometros\".format(Diametro=Diametro, Planeta=Planeta)"
   ]
  },
  {
   "cell_type": "markdown",
   "metadata": {},
   "source": [
    "** Dada a lista abaixo, use indexação para obter apenas a string “ola”. **"
   ]
  },
  {
   "cell_type": "code",
   "execution_count": 9,
   "metadata": {},
   "outputs": [
    {
     "name": "stdout",
     "output_type": "stream",
     "text": [
      "['olá']\n"
     ]
    }
   ],
   "source": [
    "lst = [1,2,[3,4],[5,[100,200,['olá']],23,11],1,7]\n",
    "print(lst[3][1][-1])"
   ]
  },
  {
   "cell_type": "markdown",
   "metadata": {},
   "source": [
    "** Dado o seguinte dicionário aninhado, extraia a palavra “hello” **"
   ]
  },
  {
   "cell_type": "code",
   "execution_count": 16,
   "metadata": {},
   "outputs": [
    {
     "data": {
      "text/plain": [
       "'olá'"
      ]
     },
     "execution_count": 16,
     "metadata": {},
     "output_type": "execute_result"
    }
   ],
   "source": [
    "d = {'k1':[1,2,3,{'café':['banana','mulher','colher',{'alvo':[1,2,3,'olá']}]}]}\n",
    "d[\"k1\"][3][\"café\"][-1][\"alvo\"][-1]"
   ]
  },
  {
   "cell_type": "markdown",
   "metadata": {},
   "source": [
    "** Qual a principal diferença entre um dicionário e uma tupla? **\n",
    "dicionários possuem chave e valor\n",
    "tuplas são indexadas"
   ]
  },
  {
   "cell_type": "markdown",
   "metadata": {},
   "source": [
    "** Construa uma função que retire o domínio dado um e-mail no seguinte formato: **\n",
    "user@domain.com\n",
    "Por exemplo, passando como parâmetro “user@domain.com” retornaria: domain.com"
   ]
  },
  {
   "cell_type": "code",
   "execution_count": 20,
   "metadata": {},
   "outputs": [
    {
     "data": {
      "text/plain": [
       "'domain.com'"
      ]
     },
     "execution_count": 20,
     "metadata": {},
     "output_type": "execute_result"
    }
   ],
   "source": [
    "def extract_domain(email: str) -> str:\n",
    "    divider_index = email.index(\"@\") + 1\n",
    "    if divider_index:\n",
    "        return email[divider_index:]\n",
    "    \n",
    "    \"\"\n",
    "    \n",
    "extract_domain(\"user@domain.com\")"
   ]
  },
  {
   "cell_type": "markdown",
   "metadata": {},
   "source": [
    "** Crie uma função básica que retorna True se a palavra ‘dog’ estiver contida na string de entrada.\n",
    "Não se preocupe com os casos de extremos, como uma pontuação que está sendo anexada à palavra\n",
    "cão, mas que seja senível à caixa. **"
   ]
  },
  {
   "cell_type": "code",
   "execution_count": 21,
   "metadata": {},
   "outputs": [
    {
     "data": {
      "text/plain": [
       "True"
      ]
     },
     "execution_count": 21,
     "metadata": {},
     "output_type": "execute_result"
    }
   ],
   "source": [
    "def find_dog(phrase: str) -> bool:\n",
    "    \n",
    "    if \"cachorro\" in phrase:\n",
    "        return True\n",
    "    return False\n",
    "\n",
    "find_dog(\"Existe um cachorro aí?\")"
   ]
  },
  {
   "cell_type": "markdown",
   "metadata": {},
   "source": [
    "** Crie uma função que conta o número de vezes que a palavra “dog” ocorre em uma string.\n",
    "Novamente ignore os casos extremos. **"
   ]
  },
  {
   "cell_type": "code",
   "execution_count": 11,
   "metadata": {},
   "outputs": [
    {
     "data": {
      "text/plain": [
       "1"
      ]
     },
     "execution_count": 11,
     "metadata": {},
     "output_type": "execute_result"
    }
   ],
   "source": [
    "def count_dogs(phrase: str) -> int:\n",
    "    text_list = phrase.split(\"cachorro\")\n",
    "    return len(text_list)-1\n",
    "\n",
    "\n",
    "count_dogs(\"cachorro\")\n"
   ]
  },
  {
   "cell_type": "markdown",
   "metadata": {},
   "source": [
    "** Use expressões lambda e a função filter () para filtrar as palavras de uma lista que não começa\n",
    "com a letra ‘s’. Por exemplo: **"
   ]
  },
  {
   "cell_type": "code",
   "execution_count": 14,
   "metadata": {},
   "outputs": [
    {
     "data": {
      "text/plain": [
       "['sopa', 'salada']"
      ]
     },
     "execution_count": 14,
     "metadata": {},
     "output_type": "execute_result"
    }
   ],
   "source": [
    "seq = ['sopa','cachorro','salada','gato','ótimo']\n",
    "list(filter(lambda palavra: palavra[0] == \"s\", seq))"
   ]
  },
  {
   "cell_type": "markdown",
   "metadata": {},
   "source": [
    "** Você está dirigindo um pouco rápido demais, e um policial para você. Escreva uma função para\n",
    "retornar um dos 3 resultados possíveis: “Sem multa”, “Pequena multa” ou “Multa Grande”. Se a\n",
    "sua velocidade for igual ou inferior a 60, o resultado é “Sem multa”. Se a velocidade for entre 61 e\n",
    "80 inclusive, o resultado é “Multa Pequena”. Se a velocidade é de 81 ou mais, o resultado é “Multa\n",
    "Grande”. A menos que seja seu aniversário (codificado como um valor booleano nos parâmetros da\n",
    "função) - em seu aniversário, sua velocidade pode ser 5 maior em todos os casos. **"
   ]
  },
  {
   "cell_type": "code",
   "execution_count": 15,
   "metadata": {},
   "outputs": [],
   "source": [
    "def aplicar_multa(velocidade: float, aniversario: bool = False) -> str:\n",
    "    \n",
    "    if velocidade < 60.0 or aniversario:\n",
    "        return \"sem multa\"\n",
    "    elif velocidade > 60.0 and velocidade <= 80:\n",
    "        return \"multa pequena\"\n",
    "    return \"multa grande\""
   ]
  },
  {
   "cell_type": "code",
   "execution_count": null,
   "metadata": {},
   "outputs": [],
   "source": []
  }
 ],
 "metadata": {
  "kernelspec": {
   "display_name": "Python 3.8.10 64-bit (windows store)",
   "language": "python",
   "name": "python3"
  },
  "language_info": {
   "codemirror_mode": {
    "name": "ipython",
    "version": 3
   },
   "file_extension": ".py",
   "mimetype": "text/x-python",
   "name": "python",
   "nbconvert_exporter": "python",
   "pygments_lexer": "ipython3",
   "version": "3.8.10"
  },
  "orig_nbformat": 4,
  "vscode": {
   "interpreter": {
    "hash": "712b1bb9f9b201a39d484bf33b5adf39a3ffc64a74a1ee9d3eda9d3b9b673373"
   }
  }
 },
 "nbformat": 4,
 "nbformat_minor": 2
}
